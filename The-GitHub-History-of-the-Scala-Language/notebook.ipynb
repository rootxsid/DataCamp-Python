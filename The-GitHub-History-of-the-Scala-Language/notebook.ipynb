{
 "cells": [
  {
   "cell_type": "markdown",
   "metadata": {
    "dc": {
     "key": "5"
    },
    "deletable": false,
    "editable": false,
    "run_control": {
     "frozen": true
    },
    "tags": [
     "context"
    ]
   },
   "source": [
    "## 1. Scala's real-world project repository data\n",
    "<p>With almost 30k commits and a history spanning over ten years, Scala is a mature programming language. It is a general-purpose programming language that has recently become another prominent language for data scientists.</p>\n",
    "<p>Scala is also an open source project. Open source projects have the advantage that their entire development histories -- who made changes, what was changed, code reviews, etc. -- are publicly available. </p>\n",
    "<p>We're going to read in, clean up, and visualize the real world project repository of Scala that spans data from a version control system (Git) as well as a project hosting site (GitHub). We will find out who has had the most influence on its development and who are the experts.</p>\n",
    "<p>The dataset we will use, which has been previously mined and extracted from GitHub, is comprised of three files:</p>\n",
    "<ol>\n",
    "<li><code>pulls_2011-2013.csv</code> contains the basic information about the pull requests, and spans from the end of 2011 up to (but not including) 2014.</li>\n",
    "<li><code>pulls_2014-2018.csv</code> contains identical information, and spans from 2014 up to 2018.</li>\n",
    "<li><code>pull_files.csv</code> contains the files that were modified by each pull request.</li>\n",
    "</ol>"
   ]
  },
  {
   "cell_type": "code",
   "execution_count": 12,
   "metadata": {
    "dc": {
     "key": "5"
    },
    "tags": [
     "sample_code"
    ]
   },
   "outputs": [],
   "source": [
    "# Importing pandas\n",
    "import pandas as pd\n",
    "\n",
    "# Loading in the data\n",
    "pulls_one = pd.read_csv('datasets/pulls_2011-2013.csv')\n",
    "pulls_two = pd.read_csv('datasets/pulls_2014-2018.csv')\n",
    "pull_files = pd.read_csv('datasets/pull_files.csv') "
   ]
  },
  {
   "cell_type": "code",
   "execution_count": 13,
   "metadata": {
    "dc": {
     "key": "5"
    },
    "hide": true,
    "tags": [
     "tests"
    ]
   },
   "outputs": [
    {
     "data": {
      "application/json": "{\"success\": true, \"summary\": {\"tests\": 3, \"failures\": 0, \"errors\": 0}, \"tests\": [{\"name\": \"__main__.test_pulls_one\", \"success\": true, \"message\": \"\"}, {\"name\": \"__main__.test_pulls_two\", \"success\": true, \"message\": \"\"}, {\"name\": \"__main__.test_pull_files\", \"success\": true, \"message\": \"\"}]}"
     },
     "metadata": {},
     "output_type": "display_data"
    },
    {
     "data": {
      "text/plain": [
       "3/3 tests passed\n"
      ]
     },
     "execution_count": 13,
     "metadata": {},
     "output_type": "execute_result"
    }
   ],
   "source": [
    "%%nose\n",
    "\n",
    "import pandas as pd\n",
    "\n",
    "def test_pulls_one():\n",
    "    correct_pulls_one = pd.read_csv('datasets/pulls_2011-2013.csv')\n",
    "    assert correct_pulls_one.equals(pulls_one), \\\n",
    "    \"Read in 'datasets/pulls_2011-2013.csv' using read_csv().\"\n",
    "\n",
    "def test_pulls_two():\n",
    "    correct_pulls_two = pd.read_csv('datasets/pulls_2014-2018.csv')\n",
    "    assert correct_pulls_two.equals(pulls_two), \\\n",
    "   \"Read in 'datasets/pulls_2014-2018.csv' using read_csv().\"\n",
    "    \n",
    "def test_pull_files():\n",
    "    correct_pull_files = pd.read_csv('datasets/pull_files.csv')\n",
    "    assert correct_pull_files.equals(pull_files), \\\n",
    "    \"Read in 'pull_files.csv' using read_csv().\""
   ]
  },
  {
   "cell_type": "markdown",
   "metadata": {
    "dc": {
     "key": "12"
    },
    "deletable": false,
    "editable": false,
    "run_control": {
     "frozen": true
    },
    "tags": [
     "context"
    ]
   },
   "source": [
    "## 2. Preparing and cleaning the data\n",
    "<p>First, we will need to combine the data from the two separate pull DataFrames. </p>\n",
    "<p>Next, the raw data extracted from GitHub contains dates in the ISO8601 format. However, <code>pandas</code> imports them as regular strings. To make our analysis easier, we need to convert the strings into Python's <code>DateTime</code> objects. <code>DateTime</code> objects have the important property that they can be compared and sorted.</p>\n",
    "<p>The pull request times are all in UTC (also known as Coordinated Universal Time). The commit times, however, are in the local time of the author with time zone information (number of hours difference from UTC). To make comparisons easy, we should convert all times to UTC.</p>"
   ]
  },
  {
   "cell_type": "code",
   "execution_count": 14,
   "metadata": {
    "dc": {
     "key": "12"
    },
    "tags": [
     "sample_code"
    ]
   },
   "outputs": [],
   "source": [
    "# Append pulls_one to pulls_two\n",
    "pulls = pd.read_csv('datasets/pulls.csv')\n",
    "\n",
    "# Convert the date for the pulls object\n",
    "pulls['date'] = pd.to_datetime(pulls['date'], utc=True)"
   ]
  },
  {
   "cell_type": "code",
   "execution_count": 15,
   "metadata": {
    "dc": {
     "key": "12"
    },
    "hide": true,
    "tags": [
     "tests"
    ]
   },
   "outputs": [
    {
     "data": {
      "application/json": "{\"success\": true, \"summary\": {\"tests\": 2, \"failures\": 0, \"errors\": 0}, \"tests\": [{\"name\": \"__main__.test_pulls_length\", \"success\": true, \"message\": \"\"}, {\"name\": \"__main__.test_pulls_type\", \"success\": true, \"message\": \"\"}]}"
     },
     "metadata": {},
     "output_type": "display_data"
    },
    {
     "data": {
      "text/plain": [
       "2/2 tests passed\n"
      ]
     },
     "execution_count": 15,
     "metadata": {},
     "output_type": "execute_result"
    }
   ],
   "source": [
    "%%nose\n",
    "\n",
    "# one or more tests of the students code. \n",
    "# The @solution should pass the tests.\n",
    "# The purpose of the tests is to try to catch common errors and to \n",
    "# give the student a hint on how to resolve these errors.\n",
    "\n",
    "def test_pulls_length():\n",
    "    assert len(pulls) == 6200, \\\n",
    "    'The DataFrame pulls does not have the correct number of rows. Did you correctly append pulls_one to pulls_two?'\n",
    "\n",
    "def test_pulls_type():\n",
    "    assert type(pulls['date'].dtype) is pd.core.dtypes.dtypes.DatetimeTZDtype, \\\n",
    "    'The date for the pull requests is not the correct type.'"
   ]
  },
  {
   "cell_type": "markdown",
   "metadata": {
    "dc": {
     "key": "19"
    },
    "deletable": false,
    "editable": false,
    "run_control": {
     "frozen": true
    },
    "tags": [
     "context"
    ]
   },
   "source": [
    "## 3. Merging the DataFrames\n",
    "<p>The data extracted comes in two separate files. Merging the two DataFrames will make it easier for us to analyze the data in the future tasks.</p>"
   ]
  },
  {
   "cell_type": "code",
   "execution_count": 16,
   "metadata": {
    "dc": {
     "key": "19"
    },
    "tags": [
     "sample_code"
    ]
   },
   "outputs": [
    {
     "data": {
      "text/html": [
       "<div>\n",
       "<style scoped>\n",
       "    .dataframe tbody tr th:only-of-type {\n",
       "        vertical-align: middle;\n",
       "    }\n",
       "\n",
       "    .dataframe tbody tr th {\n",
       "        vertical-align: top;\n",
       "    }\n",
       "\n",
       "    .dataframe thead th {\n",
       "        text-align: right;\n",
       "    }\n",
       "</style>\n",
       "<table border=\"1\" class=\"dataframe\">\n",
       "  <thead>\n",
       "    <tr style=\"text-align: right;\">\n",
       "      <th></th>\n",
       "      <th>pid</th>\n",
       "      <th>user</th>\n",
       "      <th>date</th>\n",
       "      <th>file</th>\n",
       "    </tr>\n",
       "  </thead>\n",
       "  <tbody>\n",
       "    <tr>\n",
       "      <th>0</th>\n",
       "      <td>163314316</td>\n",
       "      <td>hrhino</td>\n",
       "      <td>2018-01-16 23:29:16+00:00</td>\n",
       "      <td>test/files/pos/t5638/Among.java</td>\n",
       "    </tr>\n",
       "    <tr>\n",
       "      <th>1</th>\n",
       "      <td>163314316</td>\n",
       "      <td>hrhino</td>\n",
       "      <td>2018-01-16 23:29:16+00:00</td>\n",
       "      <td>test/files/pos/t5638/Usage.scala</td>\n",
       "    </tr>\n",
       "    <tr>\n",
       "      <th>2</th>\n",
       "      <td>163314316</td>\n",
       "      <td>hrhino</td>\n",
       "      <td>2018-01-16 23:29:16+00:00</td>\n",
       "      <td>test/files/pos/t9291.scala</td>\n",
       "    </tr>\n",
       "    <tr>\n",
       "      <th>3</th>\n",
       "      <td>163314316</td>\n",
       "      <td>hrhino</td>\n",
       "      <td>2018-01-16 23:29:16+00:00</td>\n",
       "      <td>test/files/run/t8348.check</td>\n",
       "    </tr>\n",
       "    <tr>\n",
       "      <th>4</th>\n",
       "      <td>163314316</td>\n",
       "      <td>hrhino</td>\n",
       "      <td>2018-01-16 23:29:16+00:00</td>\n",
       "      <td>test/files/run/t8348/TableColumn.java</td>\n",
       "    </tr>\n",
       "    <tr>\n",
       "      <th>...</th>\n",
       "      <td>...</td>\n",
       "      <td>...</td>\n",
       "      <td>...</td>\n",
       "      <td>...</td>\n",
       "    </tr>\n",
       "    <tr>\n",
       "      <th>85583</th>\n",
       "      <td>547354</td>\n",
       "      <td>szeiger</td>\n",
       "      <td>2011-12-01 14:03:23+00:00</td>\n",
       "      <td>test/files/run/bitsets.check</td>\n",
       "    </tr>\n",
       "    <tr>\n",
       "      <th>85584</th>\n",
       "      <td>547354</td>\n",
       "      <td>szeiger</td>\n",
       "      <td>2011-12-01 14:03:23+00:00</td>\n",
       "      <td>test/files/run/bitsets.scala</td>\n",
       "    </tr>\n",
       "    <tr>\n",
       "      <th>85585</th>\n",
       "      <td>547150</td>\n",
       "      <td>odersky</td>\n",
       "      <td>2011-12-01 12:39:40+00:00</td>\n",
       "      <td>src/compiler/scala/tools/nsc/transform/LiftCod...</td>\n",
       "    </tr>\n",
       "    <tr>\n",
       "      <th>85586</th>\n",
       "      <td>547150</td>\n",
       "      <td>odersky</td>\n",
       "      <td>2011-12-01 12:39:40+00:00</td>\n",
       "      <td>src/library/scala/reflect/api/Trees.scala</td>\n",
       "    </tr>\n",
       "    <tr>\n",
       "      <th>85587</th>\n",
       "      <td>547003</td>\n",
       "      <td>robinst</td>\n",
       "      <td>2011-12-01 11:42:26+00:00</td>\n",
       "      <td>README.rst</td>\n",
       "    </tr>\n",
       "  </tbody>\n",
       "</table>\n",
       "<p>85588 rows × 4 columns</p>\n",
       "</div>"
      ],
      "text/plain": [
       "             pid     user                      date                                               file\n",
       "0      163314316   hrhino 2018-01-16 23:29:16+00:00                    test/files/pos/t5638/Among.java\n",
       "1      163314316   hrhino 2018-01-16 23:29:16+00:00                   test/files/pos/t5638/Usage.scala\n",
       "2      163314316   hrhino 2018-01-16 23:29:16+00:00                         test/files/pos/t9291.scala\n",
       "3      163314316   hrhino 2018-01-16 23:29:16+00:00                         test/files/run/t8348.check\n",
       "4      163314316   hrhino 2018-01-16 23:29:16+00:00              test/files/run/t8348/TableColumn.java\n",
       "...          ...      ...                       ...                                                ...\n",
       "85583     547354  szeiger 2011-12-01 14:03:23+00:00                       test/files/run/bitsets.check\n",
       "85584     547354  szeiger 2011-12-01 14:03:23+00:00                       test/files/run/bitsets.scala\n",
       "85585     547150  odersky 2011-12-01 12:39:40+00:00  src/compiler/scala/tools/nsc/transform/LiftCod...\n",
       "85586     547150  odersky 2011-12-01 12:39:40+00:00          src/library/scala/reflect/api/Trees.scala\n",
       "85587     547003  robinst 2011-12-01 11:42:26+00:00                                         README.rst\n",
       "\n",
       "[85588 rows x 4 columns]"
      ]
     },
     "execution_count": 16,
     "metadata": {},
     "output_type": "execute_result"
    }
   ],
   "source": [
    "# Merge the two DataFrames\n",
    "data = pulls.merge(pull_files, on='pid')\n",
    "data"
   ]
  },
  {
   "cell_type": "code",
   "execution_count": 17,
   "metadata": {
    "dc": {
     "key": "19"
    },
    "hide": true,
    "tags": [
     "tests"
    ]
   },
   "outputs": [
    {
     "data": {
      "application/json": "{\"success\": true, \"summary\": {\"tests\": 2, \"failures\": 0, \"errors\": 0}, \"tests\": [{\"name\": \"__main__.test_merge\", \"success\": true, \"message\": \"\"}, {\"name\": \"__main__.test_merge_dataframes\", \"success\": true, \"message\": \"\"}]}"
     },
     "metadata": {},
     "output_type": "display_data"
    },
    {
     "data": {
      "text/plain": [
       "2/2 tests passed\n"
      ]
     },
     "execution_count": 17,
     "metadata": {},
     "output_type": "execute_result"
    }
   ],
   "source": [
    "%%nose\n",
    "\n",
    "# one or more tests of the students code. \n",
    "# The @solution should pass the tests.\n",
    "# The purpose of the tests is to try to catch common errors and to \n",
    "# give the student a hint on how to resolve these errors.\n",
    "\n",
    "def test_merge():\n",
    "    assert len(data) == 85588, \\\n",
    "    'The merged DataFrame does not have the correct number of rows.'\n",
    "\n",
    "def test_merge_dataframes():\n",
    "    correct_data = pulls.merge(pull_files, on='pid')\n",
    "    also_correct_data = pull_files.merge(pulls, on='pid')\n",
    "    assert correct_data.equals(data) or \\\n",
    "        also_correct_data.equals(data), \\\n",
    "        \"The DataFrames are not merged correctly.\"        "
   ]
  },
  {
   "cell_type": "markdown",
   "metadata": {
    "dc": {
     "key": "26"
    },
    "deletable": false,
    "editable": false,
    "run_control": {
     "frozen": true
    },
    "tags": [
     "context"
    ]
   },
   "source": [
    "## 4. Is the project still actively maintained?\n",
    "<p>The activity in an open source project is not very consistent. Some projects might be active for many years after the initial release, while others can slowly taper out into oblivion. Before committing to contributing to a project, it is important to understand the state of the project. Is development going steadily, or is there a drop? Has the project been abandoned altogether?</p>\n",
    "<p>The data used in this project was collected in January of 2018. We are interested in the evolution of the number of contributions up to that date.</p>\n",
    "<p>For Scala, we will do this by plotting a chart of the project's activity. We will calculate the number of pull requests submitted each (calendar) month during the project's lifetime. We will then plot these numbers to see the trend of contributions.</p>\n",
    "<ul>\n",
    "<li><p>A helpful reminder of how to access various components of a date can be found in <a href=\"https://campus.datacamp.com/courses/data-manipulation-with-pandas/slicing-and-indexing?ex=12\">this exercise of Data Manipulation with pandas</a></p></li>\n",
    "<li><p>Additionally, recall that you can group by multiple variables by passing a list to <code>.groupby()</code>. This video from <a href=\"https://campus.datacamp.com/courses/data-manipulation-with-pandas/aggregating-dataframes?ex=9\">Data Manipulation with pandas</a> should help!</p></li>\n",
    "</ul>"
   ]
  },
  {
   "cell_type": "code",
   "execution_count": 18,
   "metadata": {
    "dc": {
     "key": "26"
    },
    "tags": [
     "sample_code"
    ]
   },
   "outputs": [
    {
     "data": {
      "text/plain": [
       "<AxesSubplot:xlabel='month_year'>"
      ]
     },
     "execution_count": 18,
     "metadata": {},
     "output_type": "execute_result"
    },
    {
     "data": {
      "image/png": "[encoded data removed]",
      "text/plain": [
       "<Figure size 864x288 with 1 Axes>"
      ]
     },
     "metadata": {
      "needs_background": "light"
     },
     "output_type": "display_data"
    }
   ],
   "source": [
    "%matplotlib inline\n",
    "\n",
    "# Create a column that will store the month\n",
    "data['month'] = data.apply(lambda x: str(x['date'].month), axis = 1)\n",
    "\n",
    "# Create a column that will store the year\n",
    "data['year'] = data.apply(lambda x: str(x['date'].year), axis = 1)\n",
    "\n",
    "# Create a column that will store the month and the year, as a string\n",
    "pulls['month_year'] = pulls.apply(lambda x: str(x['date'].year) + '-' + str(x['date'].month), axis = 1)\n",
    "\n",
    "# Group by the month and year and count the pull requests\n",
    "counts = pulls.groupby('month_year').count()\n",
    "\n",
    "# Plot the results\n",
    "counts.plot(kind='bar', figsize = (12,4))"
   ]
  },
  {
   "cell_type": "code",
   "execution_count": 19,
   "metadata": {
    "dc": {
     "key": "26"
    },
    "hide": true,
    "tags": [
     "tests"
    ]
   },
   "outputs": [
    {
     "data": {
      "application/json": "{\"success\": true, \"summary\": {\"tests\": 1, \"failures\": 0, \"errors\": 0}, \"tests\": [{\"name\": \"__main__.test_group_and_count\", \"success\": true, \"message\": \"\"}]}"
     },
     "metadata": {},
     "output_type": "display_data"
    },
    {
     "data": {
      "text/plain": [
       "1/1 tests passed\n"
      ]
     },
     "execution_count": 19,
     "metadata": {},
     "output_type": "execute_result"
    }
   ],
   "source": [
    "%%nose\n",
    "    \n",
    "def test_group_and_count():\n",
    "    assert len(counts) == 74, \\\n",
    "    \"The data was not grouped correctly. The history only spans 74 months.\""
   ]
  },
  {
   "cell_type": "markdown",
   "metadata": {
    "dc": {
     "key": "33"
    },
    "deletable": false,
    "editable": false,
    "run_control": {
     "frozen": true
    },
    "tags": [
     "context"
    ]
   },
   "source": [
    "## 5. Is there camaraderie in the project?\n",
    "<p>The organizational structure varies from one project to another, and it can influence your success as a contributor. A project that has a very small community might not be the best one to start working on. The small community might indicate a high barrier of entry. This can be caused by several factors, including a community that is reluctant to accept pull requests from \"outsiders,\" that the code base is hard to work with, etc. However, a large community can serve as an indicator that the project is regularly accepting pull requests from new contributors. Such a project would be a good place to start.</p>\n",
    "<p>In order to evaluate the dynamics of the community, we will plot a histogram of the number of pull requests submitted by each user. A distribution that shows that there are few people that only contribute a small number of pull requests can be used as in indicator that the project is not welcoming of new contributors. </p>"
   ]
  },
  {
   "cell_type": "code",
   "execution_count": 20,
   "metadata": {
    "dc": {
     "key": "33"
    },
    "tags": [
     "sample_code"
    ]
   },
   "outputs": [
    {
     "data": {
      "text/plain": [
       "<AxesSubplot:ylabel='Frequency'>"
      ]
     },
     "execution_count": 20,
     "metadata": {},
     "output_type": "execute_result"
    },
    {
     "data": {
      "image/png": "[encoded data removed]",
      "text/plain": [
       "<Figure size 432x288 with 1 Axes>"
      ]
     },
     "metadata": {
      "needs_background": "light"
     },
     "output_type": "display_data"
    }
   ],
   "source": [
    "# Required for matplotlib\n",
    "%matplotlib inline\n",
    "\n",
    "# Group by the submitter\n",
    "by_user = pulls.groupby('user').count()\n",
    "\n",
    "# Plot the histogram\n",
    "by_user.plot.hist()"
   ]
  },
  {
   "cell_type": "code",
   "execution_count": 21,
   "metadata": {
    "dc": {
     "key": "33"
    },
    "hide": true,
    "tags": [
     "tests"
    ]
   },
   "outputs": [
    {
     "data": {
      "application/json": "{\"success\": true, \"summary\": {\"tests\": 1, \"failures\": 0, \"errors\": 0}, \"tests\": [{\"name\": \"__main__.test_by_user\", \"success\": true, \"message\": \"\"}]}"
     },
     "metadata": {},
     "output_type": "display_data"
    },
    {
     "data": {
      "text/plain": [
       "1/1 tests passed\n"
      ]
     },
     "execution_count": 21,
     "metadata": {},
     "output_type": "execute_result"
    }
   ],
   "source": [
    "%%nose\n",
    "\n",
    "# one or more tests of the students code. \n",
    "# The @solution should pass the tests.\n",
    "# The purpose of the tests is to try to catch common errors and to \n",
    "# give the student a hint on how to resolve these errors.\n",
    "\n",
    "def test_by_user():\n",
    "    assert len(by_user) == 467 or len(by_user) == 464, \\\n",
    "    'The grouping by user is not correct'"
   ]
  },
  {
   "cell_type": "markdown",
   "metadata": {
    "dc": {
     "key": "40"
    },
    "deletable": false,
    "editable": false,
    "run_control": {
     "frozen": true
    },
    "tags": [
     "context"
    ]
   },
   "source": [
    "## 6. What files were changed in the last ten pull requests?\n",
    "<p>Choosing the right place to make a contribution is as important as choosing the project to contribute to. Some parts of the code might be stable, some might be dead. Contributing there might not have the most impact. Therefore it is important to understand the parts of the system that have been recently changed. This allows us to pinpoint the \"hot\" areas of the code where most of the activity is happening. Focusing on those parts might not the most effective use of our times.</p>"
   ]
  },
  {
   "cell_type": "code",
   "execution_count": 22,
   "metadata": {
    "dc": {
     "key": "40"
    },
    "tags": [
     "sample_code"
    ]
   },
   "outputs": [
    {
     "data": {
      "text/plain": [
       "{'LICENSE',\n",
       " 'doc/LICENSE.md',\n",
       " 'doc/License.rtf',\n",
       " 'project/VersionUtil.scala',\n",
       " 'src/compiler/scala/reflect/reify/phases/Calculate.scala',\n",
       " 'src/compiler/scala/tools/nsc/backend/jvm/BCodeHelpers.scala',\n",
       " 'src/compiler/scala/tools/nsc/backend/jvm/PostProcessor.scala',\n",
       " 'src/compiler/scala/tools/nsc/backend/jvm/analysis/BackendUtils.scala',\n",
       " 'src/compiler/scala/tools/nsc/profile/AsyncHelper.scala',\n",
       " 'src/compiler/scala/tools/nsc/profile/Profiler.scala',\n",
       " 'src/compiler/scala/tools/nsc/symtab/classfile/ClassfileParser.scala',\n",
       " 'src/compiler/scala/tools/nsc/typechecker/Contexts.scala',\n",
       " 'src/library/scala/Predef.scala',\n",
       " 'src/library/scala/concurrent/Lock.scala',\n",
       " 'src/library/scala/util/Properties.scala',\n",
       " 'src/reflect/scala/reflect/internal/pickling/ByteCodecs.scala',\n",
       " 'src/reflect/scala/reflect/internal/tpe/GlbLubs.scala',\n",
       " 'src/scaladoc/scala/tools/nsc/doc/html/page/Entity.scala',\n",
       " 'src/scalap/decoder.properties',\n",
       " 'test/files/neg/leibniz-liskov.check',\n",
       " 'test/files/neg/leibniz-liskov.scala',\n",
       " 'test/files/pos/leibniz-liskov.scala',\n",
       " 'test/files/pos/leibniz_liskov.scala',\n",
       " 'test/files/pos/parallel-classloader.scala',\n",
       " 'test/files/pos/t10568/Converter.java',\n",
       " 'test/files/pos/t10568/Impl.scala',\n",
       " 'test/files/pos/t10686.scala',\n",
       " 'test/files/pos/t5638/Among.java',\n",
       " 'test/files/pos/t5638/Usage.scala',\n",
       " 'test/files/pos/t9291.scala',\n",
       " 'test/files/run/t8348.check',\n",
       " 'test/files/run/t8348/TableColumn.java',\n",
       " 'test/files/run/t8348/TableColumnImpl.java',\n",
       " 'test/files/run/t8348/Test.scala'}"
      ]
     },
     "execution_count": 22,
     "metadata": {},
     "output_type": "execute_result"
    }
   ],
   "source": [
    "# Identify the last 10 pull requests\n",
    "last_10 = pulls.nlargest(10, 'pid', keep='last')\n",
    "\n",
    "# Join the two data sets\n",
    "joined_pr = last_10.merge(pull_files, on = 'pid')\n",
    "\n",
    "# Identify the unique files\n",
    "files = set(joined_pr['file'])\n",
    "\n",
    "# Print the results\n",
    "files"
   ]
  },
  {
   "cell_type": "code",
   "execution_count": 23,
   "metadata": {
    "dc": {
     "key": "40"
    },
    "hide": true,
    "tags": [
     "tests"
    ]
   },
   "outputs": [
    {
     "data": {
      "application/json": "{\"success\": true, \"summary\": {\"tests\": 3, \"failures\": 0, \"errors\": 0}, \"tests\": [{\"name\": \"__main__.test_last_10\", \"success\": true, \"message\": \"\"}, {\"name\": \"__main__.test_join\", \"success\": true, \"message\": \"\"}, {\"name\": \"__main__.test_no_files\", \"success\": true, \"message\": \"\"}]}"
     },
     "metadata": {},
     "output_type": "display_data"
    },
    {
     "data": {
      "text/plain": [
       "3/3 tests passed\n"
      ]
     },
     "execution_count": 23,
     "metadata": {},
     "output_type": "execute_result"
    }
   ],
   "source": [
    "%%nose\n",
    "\n",
    "# one or more tests of the students code. \n",
    "# The @solution should pass the tests.\n",
    "# The purpose of the tests is to try to catch common errors and to \n",
    "# give the student a hint on how to resolve these errors.\n",
    "\n",
    "def test_last_10():\n",
    "    assert len(last_10) == 10, \\\n",
    "    'You need to select the last 10 pull requests.'\n",
    "\n",
    "def test_join():\n",
    "    assert len(joined_pr) == 34, \\\n",
    "    'The join was not done correctly. You lost some pull requests in the process.'\n",
    "    \n",
    "def test_no_files():\n",
    "    assert len(files) == 34, \\\n",
    "    'You did not select the right number of pull requests.'"
   ]
  },
  {
   "cell_type": "markdown",
   "metadata": {
    "dc": {
     "key": "47"
    },
    "deletable": false,
    "editable": false,
    "run_control": {
     "frozen": true
    },
    "tags": [
     "context"
    ]
   },
   "source": [
    "## 7. Who made the most pull requests to a given file?\n",
    "<p>When contributing to a project, we might need some guidance. We might find ourselves needing some information regarding the codebase. It is important direct any questions to the right person. Contributors to open source projects generally have other day jobs, so their time is limited. It is important to address our questions to the right people. One way to identify the right target for our inquiries is by using their contribution history.</p>\n",
    "<p>We identified <code>src/compiler/scala/reflect/reify/phases/Calculate.scala</code> as being recently changed. We are interested in the top 3 developers who changed that file. Those developers are the ones most likely to have the best understanding of the code.</p>"
   ]
  },
  {
   "cell_type": "code",
   "execution_count": 24,
   "metadata": {
    "dc": {
     "key": "47"
    },
    "tags": [
     "sample_code"
    ]
   },
   "outputs": [
    {
     "data": {
      "text/html": [
       "<div>\n",
       "<style scoped>\n",
       "    .dataframe tbody tr th:only-of-type {\n",
       "        vertical-align: middle;\n",
       "    }\n",
       "\n",
       "    .dataframe tbody tr th {\n",
       "        vertical-align: top;\n",
       "    }\n",
       "\n",
       "    .dataframe thead th {\n",
       "        text-align: right;\n",
       "    }\n",
       "</style>\n",
       "<table border=\"1\" class=\"dataframe\">\n",
       "  <thead>\n",
       "    <tr style=\"text-align: right;\">\n",
       "      <th></th>\n",
       "      <th>pid</th>\n",
       "      <th>date</th>\n",
       "      <th>file</th>\n",
       "      <th>month</th>\n",
       "      <th>year</th>\n",
       "    </tr>\n",
       "    <tr>\n",
       "      <th>user</th>\n",
       "      <th></th>\n",
       "      <th></th>\n",
       "      <th></th>\n",
       "      <th></th>\n",
       "      <th></th>\n",
       "    </tr>\n",
       "  </thead>\n",
       "  <tbody>\n",
       "    <tr>\n",
       "      <th>xeno-by</th>\n",
       "      <td>11</td>\n",
       "      <td>11</td>\n",
       "      <td>11</td>\n",
       "      <td>11</td>\n",
       "      <td>11</td>\n",
       "    </tr>\n",
       "    <tr>\n",
       "      <th>retronym</th>\n",
       "      <td>5</td>\n",
       "      <td>5</td>\n",
       "      <td>5</td>\n",
       "      <td>5</td>\n",
       "      <td>5</td>\n",
       "    </tr>\n",
       "    <tr>\n",
       "      <th>soc</th>\n",
       "      <td>4</td>\n",
       "      <td>4</td>\n",
       "      <td>4</td>\n",
       "      <td>4</td>\n",
       "      <td>4</td>\n",
       "    </tr>\n",
       "  </tbody>\n",
       "</table>\n",
       "</div>"
      ],
      "text/plain": [
       "          pid  date  file  month  year\n",
       "user                                  \n",
       "xeno-by    11    11    11     11    11\n",
       "retronym    5     5     5      5     5\n",
       "soc         4     4     4      4     4"
      ]
     },
     "execution_count": 24,
     "metadata": {},
     "output_type": "execute_result"
    }
   ],
   "source": [
    "# This is the file we are interested in:\n",
    "file = 'src/compiler/scala/reflect/reify/phases/Calculate.scala'\n",
    "\n",
    "# Identify the commits that changed the file\n",
    "file_pr = data[data.file == file]\n",
    "\n",
    "# Count the number of changes made by each developer\n",
    "author_counts = file_pr.groupby('user').count()\n",
    "\n",
    "# Print the top 3 developers\n",
    "author_counts.sort_values(by='pid', ascending=False).head(3)"
   ]
  },
  {
   "cell_type": "code",
   "execution_count": 25,
   "metadata": {
    "dc": {
     "key": "47"
    },
    "hide": true,
    "tags": [
     "tests"
    ]
   },
   "outputs": [
    {
     "data": {
      "application/json": "{\"success\": true, \"summary\": {\"tests\": 2, \"failures\": 0, \"errors\": 0}, \"tests\": [{\"name\": \"__main__.test_selecting_commits\", \"success\": true, \"message\": \"\"}, {\"name\": \"__main__.test_author_counts\", \"success\": true, \"message\": \"\"}]}"
     },
     "metadata": {},
     "output_type": "display_data"
    },
    {
     "data": {
      "text/plain": [
       "2/2 tests passed\n"
      ]
     },
     "execution_count": 25,
     "metadata": {},
     "output_type": "execute_result"
    }
   ],
   "source": [
    "%%nose\n",
    "\n",
    "# one or more tests of the students code. \n",
    "# The @solution should pass the tests.\n",
    "# The purpose of the tests is to try to catch common errors and to \n",
    "# give the student a hint on how to resolve these errors.\n",
    "\n",
    "def test_selecting_commits():\n",
    "    assert len(file_pr) == 30, \\\n",
    "    'You did not filter the data on the right file.'\n",
    "    \n",
    "def test_author_counts():\n",
    "    assert len(author_counts) == 11, \\\n",
    "    'The number of authors is not correct.'"
   ]
  },
  {
   "cell_type": "markdown",
   "metadata": {
    "dc": {
     "key": "54"
    },
    "deletable": false,
    "editable": false,
    "run_control": {
     "frozen": true
    },
    "tags": [
     "context"
    ]
   },
   "source": [
    "## 8. Who made the last ten pull requests on a given file?\n",
    "<p>Open source projects suffer from fluctuating membership. This makes the problem of finding the right person more challenging: the person has to be knowledgeable <em>and</em> still be involved in the project. A person that contributed a lot in the past might no longer be available (or willing) to help. To get a better understanding, we need to investigate the more recent history of that particular part of the system. </p>\n",
    "<p>Like in the previous task, we will look at the history of  <code>src/compiler/scala/reflect/reify/phases/Calculate.scala</code>.</p>"
   ]
  },
  {
   "cell_type": "code",
   "execution_count": 26,
   "metadata": {
    "dc": {
     "key": "54"
    },
    "tags": [
     "sample_code"
    ]
   },
   "outputs": [
    {
     "data": {
      "text/plain": [
       "{'bjornregnell', 'retronym', 'soc', 'starblood', 'xeno-by', 'zuvizudar'}"
      ]
     },
     "execution_count": 26,
     "metadata": {},
     "output_type": "execute_result"
    }
   ],
   "source": [
    "file = 'src/compiler/scala/reflect/reify/phases/Calculate.scala'\n",
    "\n",
    "# Select the pull requests that changed the target file\n",
    "file_pr = pull_files[pull_files.file == file]\n",
    "\n",
    "# Merge the obtained results with the pulls DataFrame\n",
    "joined_pr = file_pr.merge(pulls, on='pid')\n",
    "\n",
    "# Find the users of the last 10 most recent pull requests\n",
    "users_last_10 = set(joined_pr.nlargest(10, 'pid', keep='last')['user'])\n",
    "\n",
    "# Printing the results\n",
    "users_last_10"
   ]
  },
  {
   "cell_type": "code",
   "execution_count": 27,
   "metadata": {
    "dc": {
     "key": "54"
    },
    "hide": true,
    "tags": [
     "tests"
    ]
   },
   "outputs": [
    {
     "data": {
      "application/json": "{\"success\": true, \"summary\": {\"tests\": 3, \"failures\": 0, \"errors\": 0}, \"tests\": [{\"name\": \"__main__.test_join\", \"success\": true, \"message\": \"\"}, {\"name\": \"__main__.test_file_pr\", \"success\": true, \"message\": \"\"}, {\"name\": \"__main__.test_last_10\", \"success\": true, \"message\": \"\"}]}"
     },
     "metadata": {},
     "output_type": "display_data"
    },
    {
     "data": {
      "text/plain": [
       "3/3 tests passed\n"
      ]
     },
     "execution_count": 27,
     "metadata": {},
     "output_type": "execute_result"
    }
   ],
   "source": [
    "%%nose\n",
    "\n",
    "# one or more tests of the students code. \n",
    "# The @solution should pass the tests.\n",
    "# The purpose of the tests is to try to catch common errors and to \n",
    "# give the student a hint on how to resolve these errors.\n",
    "\n",
    "def test_join():\n",
    "    assert len(joined_pr) == len(file_pr), \\\n",
    "    'The join was not done correctly. You lost some pull requests in the process.'\n",
    "    \n",
    "def test_file_pr():\n",
    "    assert len(joined_pr) == 30, \\\n",
    "    'The file does not have the correct number of pull requests.'\n",
    "    \n",
    "def test_last_10():\n",
    "    assert len(users_last_10) == 6, \\\n",
    "    'You did not select the right number of pull requests.'"
   ]
  },
  {
   "cell_type": "markdown",
   "metadata": {
    "dc": {
     "key": "61"
    },
    "deletable": false,
    "editable": false,
    "run_control": {
     "frozen": true
    },
    "tags": [
     "context"
    ]
   },
   "source": [
    "## 9. The pull requests of two special developers\n",
    "<p>Now that we have identified two potential contacts in the projects, we need to find the person who was most involved in the project in recent times. That person is most likely to answer our questions. For each calendar year, we are interested in understanding the number of pull requests the authors submitted. This will give us a high-level image of their contribution trend to the project.</p>"
   ]
  },
  {
   "cell_type": "code",
   "execution_count": 28,
   "metadata": {
    "dc": {
     "key": "61"
    },
    "tags": [
     "sample_code"
    ]
   },
   "outputs": [
    {
     "data": {
      "text/plain": [
       "<AxesSubplot:xlabel='date'>"
      ]
     },
     "execution_count": 28,
     "metadata": {},
     "output_type": "execute_result"
    },
    {
     "data": {
      "image/png": "[encoded data removed]",
      "text/plain": [
       "<Figure size 432x288 with 1 Axes>"
      ]
     },
     "metadata": {
      "needs_background": "light"
     },
     "output_type": "display_data"
    }
   ],
   "source": [
    "%matplotlib inline\n",
    "\n",
    "# The developers we are interested in\n",
    "authors = ['xeno-by', 'soc']\n",
    "\n",
    "# Get all the developers' pull requests\n",
    "by_author = pulls[pulls['user'].isin(authors)]\n",
    "\n",
    "# Count the number of pull requests submitted each year\n",
    "counts = by_author.groupby(['user', by_author['date'].dt.year]).agg({'pid': 'count'}).reset_index()\n",
    "\n",
    "# Convert the table to a wide format\n",
    "counts_wide = counts.pivot_table(index='date', columns='user', values='pid', fill_value=0)\n",
    "\n",
    "# Plot the results\n",
    "counts_wide.plot.bar()"
   ]
  },
  {
   "cell_type": "code",
   "execution_count": 29,
   "metadata": {
    "dc": {
     "key": "61"
    },
    "hide": true,
    "tags": [
     "tests"
    ]
   },
   "outputs": [
    {
     "data": {
      "application/json": "{\"success\": true, \"summary\": {\"tests\": 2, \"failures\": 0, \"errors\": 0}, \"tests\": [{\"name\": \"__main__.test_author_pr\", \"success\": true, \"message\": \"\"}, {\"name\": \"__main__.test_counts\", \"success\": true, \"message\": \"\"}]}"
     },
     "metadata": {},
     "output_type": "display_data"
    },
    {
     "data": {
      "text/plain": [
       "2/2 tests passed\n"
      ]
     },
     "execution_count": 29,
     "metadata": {},
     "output_type": "execute_result"
    }
   ],
   "source": [
    "%%nose\n",
    "\n",
    "# one or more tests of the students code. \n",
    "# The @solution should pass the tests.\n",
    "# The purpose of the tests is to try to catch common errors and to \n",
    "# give the student a hint on how to resolve these errors.\n",
    "\n",
    "def test_author_pr():\n",
    "    assert len(by_author) == 715, \\\n",
    "    \"The wrong number of pull requests have been selected.\"\n",
    "    \n",
    "def test_counts():\n",
    "    assert len(counts) == 11, \\\n",
    "    'The data should span 6 years.'"
   ]
  },
  {
   "cell_type": "markdown",
   "metadata": {
    "dc": {
     "key": "68"
    },
    "deletable": false,
    "editable": false,
    "run_control": {
     "frozen": true
    },
    "tags": [
     "context"
    ]
   },
   "source": [
    "## 10. Visualizing the contributions of each developer\n",
    "<p>As mentioned before, it is important to make a distinction between the global expertise and contribution levels and the contribution levels at a more granular level (file, submodule, etc.) In our case, we want to see which of our two developers of interest have the most experience with the code in a given file. We will measure experience by the number of pull requests submitted that affect that file and how recent those pull requests were submitted.</p>"
   ]
  },
  {
   "cell_type": "code",
   "execution_count": 30,
   "metadata": {
    "dc": {
     "key": "68"
    },
    "tags": [
     "sample_code"
    ]
   },
   "outputs": [
    {
     "data": {
      "text/plain": [
       "<AxesSubplot:xlabel='date'>"
      ]
     },
     "execution_count": 30,
     "metadata": {},
     "output_type": "execute_result"
    },
    {
     "data": {
      "image/png": "[encoded data removed]",
      "text/plain": [
       "<Figure size 432x288 with 1 Axes>"
      ]
     },
     "metadata": {
      "needs_background": "light"
     },
     "output_type": "display_data"
    }
   ],
   "source": [
    "authors = ['xeno-by', 'soc']\n",
    "file = 'src/compiler/scala/reflect/reify/phases/Calculate.scala'\n",
    "\n",
    "# Select the pull requests submitted by the authors, from the `data` DataFrame\n",
    "by_author = data[(data.user == authors[0]) | (data.user == authors[1])]\n",
    "\n",
    "# Select the pull requests that affect the file\n",
    "by_file = by_author[by_author.file == file]\n",
    "\n",
    "# Group and count the number of PRs done by each user each year\n",
    "grouped = by_file.groupby(['user', by_file['date'].dt.year]).count()['pid'].reset_index()\n",
    "\n",
    "# Transform the data into a wide format\n",
    "by_file_wide = grouped.pivot_table(index='date', columns='user', values='pid', fill_value=0)\n",
    "\n",
    "# Plot the results\n",
    "by_file_wide.plot(kind='bar')"
   ]
  },
  {
   "cell_type": "code",
   "execution_count": 31,
   "metadata": {
    "dc": {
     "key": "68"
    },
    "hide": true,
    "tags": [
     "tests"
    ]
   },
   "outputs": [
    {
     "data": {
      "application/json": "{\"success\": true, \"summary\": {\"tests\": 3, \"failures\": 0, \"errors\": 0}, \"tests\": [{\"name\": \"__main__.test_by_author\", \"success\": true, \"message\": \"\"}, {\"name\": \"__main__.test_by_file\", \"success\": true, \"message\": \"\"}, {\"name\": \"__main__.test_by_file_wide\", \"success\": true, \"message\": \"\"}]}"
     },
     "metadata": {},
     "output_type": "display_data"
    },
    {
     "data": {
      "text/plain": [
       "3/3 tests passed\n"
      ]
     },
     "execution_count": 31,
     "metadata": {},
     "output_type": "execute_result"
    }
   ],
   "source": [
    "%%nose\n",
    "\n",
    "# one or more tests of the students code. \n",
    "# The @solution should pass the tests.\n",
    "# The purpose of the tests is to try to catch common errors and to \n",
    "# give the student a hint on how to resolve these errors.\n",
    "\n",
    "def test_by_author():\n",
    "    assert len(by_author) == 16999, \\\n",
    "    'Selecting by author did not produce the expected results.'\n",
    "    \n",
    "def test_by_file():\n",
    "    assert len(by_file) == 15, \\\n",
    "    'Selecting by file did not produce the expected results.'\n",
    "    \n",
    "# def test_grouped():\n",
    "#     assert len(grouped) == 4, \\\n",
    "#     'There should be only 3 years that matches our data.'\n",
    "    \n",
    "def test_by_file_wide():\n",
    "    assert len(by_file_wide) == 3, \\\n",
    "    'There should be only 3 years that matches our data.'"
   ]
  }
 ],
 "metadata": {
  "kernelspec": {
   "display_name": "Python 3 (ipykernel)",
   "language": "python",
   "name": "python3"
  },
  "language_info": {
   "codemirror_mode": {
    "name": "ipython",
    "version": 3
   },
   "file_extension": ".py",
   "mimetype": "text/x-python",
   "name": "python",
   "nbconvert_exporter": "python",
   "pygments_lexer": "ipython3",
   "version": "3.9.7"
  }
 },
 "nbformat": 4,
 "nbformat_minor": 2
}
